{
  "nbformat": 4,
  "nbformat_minor": 0,
  "metadata": {
    "colab": {
      "name": "Programming Midterm.ipynb",
      "provenance": []
    },
    "kernelspec": {
      "name": "python3",
      "display_name": "Python 3"
    },
    "accelerator": "GPU"
  },
  "cells": [
    {
      "cell_type": "code",
      "metadata": {
        "id": "68uZpmgoLz_7",
        "colab_type": "code",
        "colab": {}
      },
      "source": [
        "import numpy as np\n",
        "import pandas as pd\n",
        "import matplotlib.pyplot as plt\n",
        "import seaborn as sn\n",
        "import requests\n",
        "import os\n",
        "import re\n",
        "from string import digits\n",
        "from google.colab import drive\n",
        "from tensorflow.keras.models import Sequential, Model, load_model\n",
        "from tensorflow.keras.layers import ZeroPadding2D, Convolution2D, MaxPooling2D, Dense, Dropout, Softmax, Flatten, Activation\n",
        "from tensorflow.keras.callbacks import ModelCheckpoint\n",
        "from tensorflow.keras.preprocessing.image import load_img, img_to_array, ImageDataGenerator\n",
        "from tensorflow.keras.backend import clear_session\n",
        "from sklearn.model_selection import train_test_split\n",
        "from sklearn.metrics import confusion_matrix"
      ],
      "execution_count": 0,
      "outputs": []
    },
    {
      "cell_type": "code",
      "metadata": {
        "id": "bW1e-JhcGlY9",
        "colab_type": "code",
        "colab": {}
      },
      "source": [
        "drive.mount('/content/drive')"
      ],
      "execution_count": 0,
      "outputs": []
    },
    {
      "cell_type": "markdown",
      "metadata": {
        "id": "K4CaIDYaOOAh",
        "colab_type": "text"
      },
      "source": [
        "# Dataset Creation\n",
        "\n",
        "The images for this dataset are scraped from Google Image Search. This scraping method is adapted from here: https://tinyurl.com/vn83kgp.\n",
        "\n",
        "For each person included in the dataset, a Google Image Search query was carried and the following JavaScript commands used to save the urls of all the images appearing in the search results into a file:\n",
        "\n",
        "```javascript\n",
        "urls=Array.from(document.querySelectorAll('.rg_i')).map(el=> el.hasAttribute('data-src')?el.getAttribute('data-src'):el.getAttribute('data-iurl'));\n",
        "\n",
        "window.open('data:text/csv;charset=utf-8,' + escape(urls.join('\\n')));\n",
        "```\n",
        "\n",
        "A file containing image urls was created for each of the considered individuals. The following block of codes reads, stores and displays the name of each of these files."
      ]
    },
    {
      "cell_type": "code",
      "metadata": {
        "id": "Nb7glnVjMKBj",
        "colab_type": "code",
        "colab": {
          "base_uri": "https://localhost:8080/",
          "height": 204
        },
        "outputId": "13fa2160-842a-428a-bdb7-c3890ab5513c"
      },
      "source": [
        "url_files = []\n",
        "link_folder = '/content/drive/My Drive/EECE 693 Programming Midterm/Dataset/Link Files/'\n",
        "# r=root, d=directories\n",
        "for r, d, files in os.walk(link_folder):\n",
        "    for file in files:\n",
        "        url_files.append(os.path.join(file))\n",
        "\n",
        "for url_file in url_files:\n",
        "    print(url_file)"
      ],
      "execution_count": 3,
      "outputs": [
        {
          "output_type": "stream",
          "text": [
            "Tedros Adhanom\n",
            "Fadlo Khuri\n",
            "Hamad Hassan\n",
            "Anthony Fauci\n",
            "Marcel Ghanem\n",
            "Bill Gates\n",
            "Cate Blanchett\n",
            "Donald Trump\n",
            "Samuel L. Jackson\n",
            "Keanu Reeves\n",
            "Andrew M. Cuomo\n"
          ],
          "name": "stdout"
        }
      ]
    },
    {
      "cell_type": "markdown",
      "metadata": {
        "id": "Obn5P1zjRFQx",
        "colab_type": "text"
      },
      "source": [
        "Next, the following block of code will open each of these files one by one and extract the urls as a list. It will then iterate over these urls to download the corresponding images. Downloaded images are named after the person followed by an ordinality number.\n",
        "\n",
        "At first, 80 images per person are downloaded. From these, 10 images per person will be manually selected for training and 2 for testing.\n",
        "In case we were building a large dataset, manual selection would not be feasible. However, in this case the dataset is very small and therefore we cannot tolerate any outliers. For example, some of the images scraped had the subject's face partially blocked by other people or had a young image of the subject."
      ]
    },
    {
      "cell_type": "code",
      "metadata": {
        "id": "7376tFg-9G81",
        "colab_type": "code",
        "colab": {}
      },
      "source": [
        "for url_file in url_files:\n",
        "    image_path = '/content/drive/My Drive/EECE 693 Programming Midterm/Dataset/image_dump/'\n",
        "    print(f'Downloading {url_file} images...\\n')\n",
        "    url_path = open(link_folder + url_file).read().strip().split('\\n')\n",
        "    total = 0\n",
        "\n",
        "    if not os.path.exists(image_path):\n",
        "        os.mkdir(image_path)\n",
        "    image_path = image_path + url_file\n",
        "    if not os.path.exists(image_path):\n",
        "        os.mkdir(image_path)\n",
        "\n",
        "    for url in url_path[:80]:\n",
        "        try:\n",
        "            req = requests.get(url, timeout=60)\n",
        "\n",
        "            file_path = os.path.sep.join([image_path, '{}.jpg'.format(url_file + str(total+1))])\n",
        "            file = open(file_path, 'wb')\n",
        "            file.write(req.content)\n",
        "            file.close()\n",
        "\n",
        "            print('Downloaded {}'.format(file_path))\n",
        "            total += 1\n",
        "\n",
        "        except:\n",
        "            print('Could not download {}. Downloading next file'.format(file_path))\n",
        "    print('\\n\\n')"
      ],
      "execution_count": 0,
      "outputs": []
    },
    {
      "cell_type": "markdown",
      "metadata": {
        "id": "RxE6KT8DW97u",
        "colab_type": "text"
      },
      "source": [
        "---\n",
        "\n",
        "# Loading the Data\n",
        "\n",
        "After having selected and partitioned the training and testing images into separate folders, the data is imported and processed.\n",
        "\n",
        "Images are loaded, resized and normalized. They are stored in numpy arrays.\n",
        "\n",
        "The label for each image is extracted from its name, the trailing digits and \".jpg\" are removed. Labels are stored in a one-hot encoded format.\n",
        "\n",
        "**Training and Validation Data**"
      ]
    },
    {
      "cell_type": "code",
      "metadata": {
        "id": "yj2gr1G9XYWE",
        "colab_type": "code",
        "colab": {}
      },
      "source": [
        "image_list = []\n",
        "label_list = []\n",
        "train_folder = '/content/drive/My Drive/EECE 693 Programming Midterm/Dataset/Training/'\n",
        "remove_digits = str.maketrans('', '', digits) \n",
        "for r, d, image_names in os.walk(train_folder):\n",
        "    for image_name in image_names:\n",
        "        img = load_img(train_folder + image_name, color_mode='rgb', target_size=(224,224))\n",
        "        img = img_to_array(img)\n",
        "        img = img / 255\n",
        "        image_list.append(img)\n",
        "        label_list.append(re.sub(r'.jpg', '', image_name).translate(remove_digits))\n",
        "X_train = np.array(image_list)\n",
        "y_train = pd.get_dummies(pd.DataFrame(label_list))\n",
        "y_train.columns = [x[2:] for x in y_train.columns]\n",
        "\n",
        "X_train, X_val, y_train, y_val = train_test_split(X_train, y_train, test_size=11, random_state=42, shuffle=True, stratify=y_train)"
      ],
      "execution_count": 0,
      "outputs": []
    },
    {
      "cell_type": "markdown",
      "metadata": {
        "id": "AtDieRevo34b",
        "colab_type": "text"
      },
      "source": [
        "**Testing Data**"
      ]
    },
    {
      "cell_type": "code",
      "metadata": {
        "id": "7rE4mzgNo6LX",
        "colab_type": "code",
        "colab": {}
      },
      "source": [
        "image_list = []\n",
        "label_list = []\n",
        "test_folder = '/content/drive/My Drive/EECE 693 Programming Midterm/Dataset/Testing/'\n",
        "remove_digits = str.maketrans('', '', digits) \n",
        "for r, d, image_names in os.walk(test_folder):\n",
        "    for image_name in image_names:\n",
        "        img = load_img(test_folder + image_name, color_mode='rgb', target_size=(224,224))\n",
        "        img = img_to_array(img)\n",
        "        img = img / 255\n",
        "        image_list.append(img)\n",
        "        label_list.append(re.sub(r'.jpg', '', image_name).translate(remove_digits))\n",
        "X_test = np.array(image_list)\n",
        "y_test = pd.get_dummies(pd.DataFrame(label_list))\n",
        "y_test.columns = [x[2:] for x in y_test.columns]"
      ],
      "execution_count": 0,
      "outputs": []
    },
    {
      "cell_type": "markdown",
      "metadata": {
        "id": "OyFrNsXkbnvU",
        "colab_type": "text"
      },
      "source": [
        "**Prepare Image Augmentation**"
      ]
    },
    {
      "cell_type": "code",
      "metadata": {
        "id": "5pMp3n67ZIbS",
        "colab_type": "code",
        "colab": {}
      },
      "source": [
        "datagen = ImageDataGenerator(rotation_range=10, width_shift_range=0.1, height_shift_range=0.1, zoom_range=0.1, horizontal_flip=True)\n",
        "datagen.fit(X_train)"
      ],
      "execution_count": 0,
      "outputs": []
    },
    {
      "cell_type": "markdown",
      "metadata": {
        "id": "DdqpMdv7pduf",
        "colab_type": "text"
      },
      "source": [
        "---\n",
        "\n",
        "# VGG-Face Model Transfer Learning\n",
        "\n",
        "For accomplishing this task, the VGG-Face model will be fine-tuned on the presented dataset. VGG-Face is a VGG16-based network trained by Parkhi et al. (https://tinyurl.com/q32eqa8) on a large facial recognition dataset.\n",
        "\n",
        "First, the VGG-Face model is created according to the architecture used by Parkhi et al. (https://tinyurl.com/s3un98p). Then, the pre-trained weights are loaded into it (the weights shared by Parkhi et al. are made compatible with Keras by Sefik Serengil https://tinyurl.com/trjp3rs).\n",
        "\n",
        "The model for this task will incorporate the VGG-Face but with the last softmax layer removed. Two fully connected layers and a softmax layer with 11 outputs will be added. Only these new layers will be trained, all previous layers are frozen."
      ]
    },
    {
      "cell_type": "code",
      "metadata": {
        "id": "yCrrocI9puWm",
        "colab_type": "code",
        "colab": {}
      },
      "source": [
        "clear_session()\n",
        "#Build the original VGG-Face\n",
        "vgg_face = Sequential(name='vgg_face_original')\n",
        "vgg_face.add(ZeroPadding2D((1,1),input_shape=(224,224, 3)))\n",
        "vgg_face.add(Convolution2D(64, (3, 3), activation='relu'))\n",
        "vgg_face.add(ZeroPadding2D((1,1)))\n",
        "vgg_face.add(Convolution2D(64, (3, 3), activation='relu'))\n",
        "vgg_face.add(MaxPooling2D((2,2), strides=(2,2)))\n",
        " \n",
        "vgg_face.add(ZeroPadding2D((1,1)))\n",
        "vgg_face.add(Convolution2D(128, (3, 3), activation='relu'))\n",
        "vgg_face.add(ZeroPadding2D((1,1)))\n",
        "vgg_face.add(Convolution2D(128, (3, 3), activation='relu'))\n",
        "vgg_face.add(MaxPooling2D((2,2), strides=(2,2)))\n",
        " \n",
        "vgg_face.add(ZeroPadding2D((1,1)))\n",
        "vgg_face.add(Convolution2D(256, (3, 3), activation='relu'))\n",
        "vgg_face.add(ZeroPadding2D((1,1)))\n",
        "vgg_face.add(Convolution2D(256, (3, 3), activation='relu'))\n",
        "vgg_face.add(ZeroPadding2D((1,1)))\n",
        "vgg_face.add(Convolution2D(256, (3, 3), activation='relu'))\n",
        "vgg_face.add(MaxPooling2D((2,2), strides=(2,2)))\n",
        " \n",
        "vgg_face.add(ZeroPadding2D((1,1)))\n",
        "vgg_face.add(Convolution2D(512, (3, 3), activation='relu'))\n",
        "vgg_face.add(ZeroPadding2D((1,1)))\n",
        "vgg_face.add(Convolution2D(512, (3, 3), activation='relu'))\n",
        "vgg_face.add(ZeroPadding2D((1,1)))\n",
        "vgg_face.add(Convolution2D(512, (3, 3), activation='relu'))\n",
        "vgg_face.add(MaxPooling2D((2,2), strides=(2,2)))\n",
        " \n",
        "vgg_face.add(ZeroPadding2D((1,1)))\n",
        "vgg_face.add(Convolution2D(512, (3, 3), activation='relu'))\n",
        "vgg_face.add(ZeroPadding2D((1,1)))\n",
        "vgg_face.add(Convolution2D(512, (3, 3), activation='relu'))\n",
        "vgg_face.add(ZeroPadding2D((1,1)))\n",
        "vgg_face.add(Convolution2D(512, (3, 3), activation='relu'))\n",
        "vgg_face.add(MaxPooling2D((2,2), strides=(2,2)))\n",
        " \n",
        "vgg_face.add(Convolution2D(4096, (7, 7), activation='relu'))\n",
        "vgg_face.add(Dropout(0.5))\n",
        "vgg_face.add(Convolution2D(4096, (1, 1), activation='relu'))\n",
        "vgg_face.add(Dropout(0.5))\n",
        "vgg_face.add(Convolution2D(2622, (1, 1)))\n",
        "vgg_face.add(Flatten())\n",
        "vgg_face.add(Activation('softmax'))\n",
        "\n",
        "#Load Pre-trained Weights\n",
        "vgg_face.load_weights('/content/drive/My Drive/EECE 693 Programming Midterm/vgg_face_weights.h5')\n",
        "\n",
        "#Remove the Last Softmax Layer\n",
        "vgg_base = Model(inputs=vgg_face.layers[0].input, outputs=vgg_face.layers[-2].output, name='vgg_base')\n",
        "\n",
        "#Freeze Base Layers\n",
        "for layer in vgg_base.layers:\n",
        "    layer.trainable = False\n",
        "\n",
        "#Add Fully Connected Layers\n",
        "fc = Dense(1024, activation='relu')(vgg_base.layers[-1].output)\n",
        "drp = Dropout(0.5)(fc)\n",
        "fc_out = Dense(y_train.shape[1], activation='softmax')(drp)\n",
        "\n",
        "model = Model(inputs=vgg_base.input, outputs=fc_out, name='final_model')"
      ],
      "execution_count": 0,
      "outputs": []
    },
    {
      "cell_type": "code",
      "metadata": {
        "id": "6QY23CVl7bdL",
        "colab_type": "code",
        "outputId": "9aabb2f9-f240-4be2-b11a-12f7514491d7",
        "colab": {
          "base_uri": "https://localhost:8080/",
          "height": 1000
        }
      },
      "source": [
        "model.summary()"
      ],
      "execution_count": 0,
      "outputs": [
        {
          "output_type": "stream",
          "text": [
            "Model: \"final_model\"\n",
            "_________________________________________________________________\n",
            "Layer (type)                 Output Shape              Param #   \n",
            "=================================================================\n",
            "zero_padding2d_input (InputL [(None, 224, 224, 3)]     0         \n",
            "_________________________________________________________________\n",
            "zero_padding2d (ZeroPadding2 (None, 226, 226, 3)       0         \n",
            "_________________________________________________________________\n",
            "conv2d (Conv2D)              (None, 224, 224, 64)      1792      \n",
            "_________________________________________________________________\n",
            "zero_padding2d_1 (ZeroPaddin (None, 226, 226, 64)      0         \n",
            "_________________________________________________________________\n",
            "conv2d_1 (Conv2D)            (None, 224, 224, 64)      36928     \n",
            "_________________________________________________________________\n",
            "max_pooling2d (MaxPooling2D) (None, 112, 112, 64)      0         \n",
            "_________________________________________________________________\n",
            "zero_padding2d_2 (ZeroPaddin (None, 114, 114, 64)      0         \n",
            "_________________________________________________________________\n",
            "conv2d_2 (Conv2D)            (None, 112, 112, 128)     73856     \n",
            "_________________________________________________________________\n",
            "zero_padding2d_3 (ZeroPaddin (None, 114, 114, 128)     0         \n",
            "_________________________________________________________________\n",
            "conv2d_3 (Conv2D)            (None, 112, 112, 128)     147584    \n",
            "_________________________________________________________________\n",
            "max_pooling2d_1 (MaxPooling2 (None, 56, 56, 128)       0         \n",
            "_________________________________________________________________\n",
            "zero_padding2d_4 (ZeroPaddin (None, 58, 58, 128)       0         \n",
            "_________________________________________________________________\n",
            "conv2d_4 (Conv2D)            (None, 56, 56, 256)       295168    \n",
            "_________________________________________________________________\n",
            "zero_padding2d_5 (ZeroPaddin (None, 58, 58, 256)       0         \n",
            "_________________________________________________________________\n",
            "conv2d_5 (Conv2D)            (None, 56, 56, 256)       590080    \n",
            "_________________________________________________________________\n",
            "zero_padding2d_6 (ZeroPaddin (None, 58, 58, 256)       0         \n",
            "_________________________________________________________________\n",
            "conv2d_6 (Conv2D)            (None, 56, 56, 256)       590080    \n",
            "_________________________________________________________________\n",
            "max_pooling2d_2 (MaxPooling2 (None, 28, 28, 256)       0         \n",
            "_________________________________________________________________\n",
            "zero_padding2d_7 (ZeroPaddin (None, 30, 30, 256)       0         \n",
            "_________________________________________________________________\n",
            "conv2d_7 (Conv2D)            (None, 28, 28, 512)       1180160   \n",
            "_________________________________________________________________\n",
            "zero_padding2d_8 (ZeroPaddin (None, 30, 30, 512)       0         \n",
            "_________________________________________________________________\n",
            "conv2d_8 (Conv2D)            (None, 28, 28, 512)       2359808   \n",
            "_________________________________________________________________\n",
            "zero_padding2d_9 (ZeroPaddin (None, 30, 30, 512)       0         \n",
            "_________________________________________________________________\n",
            "conv2d_9 (Conv2D)            (None, 28, 28, 512)       2359808   \n",
            "_________________________________________________________________\n",
            "max_pooling2d_3 (MaxPooling2 (None, 14, 14, 512)       0         \n",
            "_________________________________________________________________\n",
            "zero_padding2d_10 (ZeroPaddi (None, 16, 16, 512)       0         \n",
            "_________________________________________________________________\n",
            "conv2d_10 (Conv2D)           (None, 14, 14, 512)       2359808   \n",
            "_________________________________________________________________\n",
            "zero_padding2d_11 (ZeroPaddi (None, 16, 16, 512)       0         \n",
            "_________________________________________________________________\n",
            "conv2d_11 (Conv2D)           (None, 14, 14, 512)       2359808   \n",
            "_________________________________________________________________\n",
            "zero_padding2d_12 (ZeroPaddi (None, 16, 16, 512)       0         \n",
            "_________________________________________________________________\n",
            "conv2d_12 (Conv2D)           (None, 14, 14, 512)       2359808   \n",
            "_________________________________________________________________\n",
            "max_pooling2d_4 (MaxPooling2 (None, 7, 7, 512)         0         \n",
            "_________________________________________________________________\n",
            "conv2d_13 (Conv2D)           (None, 1, 1, 4096)        102764544 \n",
            "_________________________________________________________________\n",
            "dropout (Dropout)            (None, 1, 1, 4096)        0         \n",
            "_________________________________________________________________\n",
            "conv2d_14 (Conv2D)           (None, 1, 1, 4096)        16781312  \n",
            "_________________________________________________________________\n",
            "dropout_1 (Dropout)          (None, 1, 1, 4096)        0         \n",
            "_________________________________________________________________\n",
            "conv2d_15 (Conv2D)           (None, 1, 1, 2622)        10742334  \n",
            "_________________________________________________________________\n",
            "flatten (Flatten)            (None, 2622)              0         \n",
            "_________________________________________________________________\n",
            "dense (Dense)                (None, 1024)              2685952   \n",
            "_________________________________________________________________\n",
            "dropout_2 (Dropout)          (None, 1024)              0         \n",
            "_________________________________________________________________\n",
            "dense_1 (Dense)              (None, 11)                11275     \n",
            "=================================================================\n",
            "Total params: 147,700,105\n",
            "Trainable params: 2,697,227\n",
            "Non-trainable params: 145,002,878\n",
            "_________________________________________________________________\n"
          ],
          "name": "stdout"
        }
      ]
    },
    {
      "cell_type": "code",
      "metadata": {
        "id": "mh7jaAac5x4t",
        "colab_type": "code",
        "outputId": "a5d4e65f-17d2-48fc-a32e-fff5415398ce",
        "colab": {
          "base_uri": "https://localhost:8080/",
          "height": 68
        }
      },
      "source": [
        "#Check Layers Freezing Status\n",
        "for layer in model.layers:\n",
        "    if layer.trainable:\n",
        "        print(layer.name + ' is trainable')"
      ],
      "execution_count": 0,
      "outputs": [
        {
          "output_type": "stream",
          "text": [
            "dense is trainable\n",
            "dropout_2 is trainable\n",
            "dense_1 is trainable\n"
          ],
          "name": "stdout"
        }
      ]
    },
    {
      "cell_type": "code",
      "metadata": {
        "id": "diVbR4SB9Djr",
        "colab_type": "code",
        "outputId": "fe37bf3d-092c-408f-8571-c55ca6e68427",
        "colab": {
          "base_uri": "https://localhost:8080/",
          "height": 867
        }
      },
      "source": [
        "model.compile(optimizer='adam', loss='categorical_crossentropy', metrics=['accuracy'])\n",
        "\n",
        "checkpoint = ModelCheckpoint('/content/drive/My Drive/EECE 693 Programming Midterm/final_model.hdf5', monitor='loss', save_best_only=True,)\n",
        "\n",
        "bt = 10 #batch size\n",
        "ep = 25 #number of epochs\n",
        "\n",
        "history = model.fit(datagen.flow(X_train, y_train.values, batch_size=bt), steps_per_epoch=len(X_train)//bt,\n",
        "                    validation_data=(X_val, y_val.values),\n",
        "                    epochs=ep, callbacks=[checkpoint])"
      ],
      "execution_count": 0,
      "outputs": [
        {
          "output_type": "stream",
          "text": [
            "Epoch 1/25\n",
            "9/9 [==============================] - 5s 560ms/step - loss: 2.3966 - accuracy: 0.1556 - val_loss: 2.2923 - val_accuracy: 0.4545\n",
            "Epoch 2/25\n",
            "9/9 [==============================] - 13s 1s/step - loss: 2.2727 - accuracy: 0.3034 - val_loss: 2.1675 - val_accuracy: 0.3636\n",
            "Epoch 3/25\n",
            "9/9 [==============================] - 16s 2s/step - loss: 2.0824 - accuracy: 0.4719 - val_loss: 2.0431 - val_accuracy: 0.4545\n",
            "Epoch 4/25\n",
            "9/9 [==============================] - 19s 2s/step - loss: 1.9679 - accuracy: 0.4607 - val_loss: 1.9293 - val_accuracy: 0.4545\n",
            "Epoch 5/25\n",
            "9/9 [==============================] - 10s 1s/step - loss: 1.8335 - accuracy: 0.5056 - val_loss: 1.8352 - val_accuracy: 0.6364\n",
            "Epoch 6/25\n",
            "9/9 [==============================] - 16s 2s/step - loss: 1.6652 - accuracy: 0.6404 - val_loss: 1.7428 - val_accuracy: 0.5455\n",
            "Epoch 7/25\n",
            "9/9 [==============================] - 16s 2s/step - loss: 1.6186 - accuracy: 0.6067 - val_loss: 1.6683 - val_accuracy: 0.5455\n",
            "Epoch 8/25\n",
            "9/9 [==============================] - 17s 2s/step - loss: 1.5811 - accuracy: 0.5955 - val_loss: 1.6058 - val_accuracy: 0.5455\n",
            "Epoch 9/25\n",
            "9/9 [==============================] - 15s 2s/step - loss: 1.3099 - accuracy: 0.6629 - val_loss: 1.5452 - val_accuracy: 0.6364\n",
            "Epoch 10/25\n",
            "9/9 [==============================] - 2s 190ms/step - loss: 1.4083 - accuracy: 0.6854 - val_loss: 1.4883 - val_accuracy: 0.6364\n",
            "Epoch 11/25\n",
            "9/9 [==============================] - 15s 2s/step - loss: 1.2942 - accuracy: 0.7000 - val_loss: 1.4383 - val_accuracy: 0.7273\n",
            "Epoch 12/25\n",
            "9/9 [==============================] - 15s 2s/step - loss: 1.2726 - accuracy: 0.6292 - val_loss: 1.4064 - val_accuracy: 0.6364\n",
            "Epoch 13/25\n",
            "9/9 [==============================] - 11s 1s/step - loss: 1.1874 - accuracy: 0.6854 - val_loss: 1.3572 - val_accuracy: 0.7273\n",
            "Epoch 14/25\n",
            "9/9 [==============================] - 16s 2s/step - loss: 1.1807 - accuracy: 0.6517 - val_loss: 1.3032 - val_accuracy: 0.8182\n",
            "Epoch 15/25\n",
            "9/9 [==============================] - 16s 2s/step - loss: 1.1555 - accuracy: 0.6629 - val_loss: 1.2659 - val_accuracy: 0.9091\n",
            "Epoch 16/25\n",
            "9/9 [==============================] - 15s 2s/step - loss: 1.1092 - accuracy: 0.6966 - val_loss: 1.2381 - val_accuracy: 0.7273\n",
            "Epoch 17/25\n",
            "9/9 [==============================] - 13s 1s/step - loss: 1.0320 - accuracy: 0.7416 - val_loss: 1.2028 - val_accuracy: 0.7273\n",
            "Epoch 18/25\n",
            "9/9 [==============================] - 2s 190ms/step - loss: 1.1098 - accuracy: 0.6854 - val_loss: 1.1960 - val_accuracy: 0.6364\n",
            "Epoch 19/25\n",
            "9/9 [==============================] - 13s 1s/step - loss: 1.0075 - accuracy: 0.6966 - val_loss: 1.1635 - val_accuracy: 0.6364\n",
            "Epoch 20/25\n",
            "9/9 [==============================] - 15s 2s/step - loss: 0.9697 - accuracy: 0.6966 - val_loss: 1.1391 - val_accuracy: 0.9091\n",
            "Epoch 21/25\n",
            "9/9 [==============================] - 14s 2s/step - loss: 0.9382 - accuracy: 0.7667 - val_loss: 1.1213 - val_accuracy: 0.9091\n",
            "Epoch 22/25\n",
            "9/9 [==============================] - 2s 191ms/step - loss: 0.9491 - accuracy: 0.7416 - val_loss: 1.1130 - val_accuracy: 0.9091\n",
            "Epoch 23/25\n",
            "9/9 [==============================] - 17s 2s/step - loss: 0.9132 - accuracy: 0.7191 - val_loss: 1.1236 - val_accuracy: 0.6364\n",
            "Epoch 24/25\n",
            "9/9 [==============================] - 12s 1s/step - loss: 0.8489 - accuracy: 0.7416 - val_loss: 1.0981 - val_accuracy: 0.8182\n",
            "Epoch 25/25\n",
            "9/9 [==============================] - 2s 190ms/step - loss: 0.9939 - accuracy: 0.7079 - val_loss: 1.0779 - val_accuracy: 0.8182\n"
          ],
          "name": "stdout"
        }
      ]
    },
    {
      "cell_type": "markdown",
      "metadata": {
        "id": "dBkTAZJ3_Hvc",
        "colab_type": "text"
      },
      "source": [
        "**Learning Curves**"
      ]
    },
    {
      "cell_type": "code",
      "metadata": {
        "id": "OLlBdTL6_TaS",
        "colab_type": "code",
        "outputId": "01386719-40d4-4df0-8602-6a6a8e9563d7",
        "colab": {
          "base_uri": "https://localhost:8080/",
          "height": 279
        }
      },
      "source": [
        "plt.figure()\n",
        "plt.plot(history.history['loss'], label='training')\n",
        "plt.plot(history.history['val_loss'], label='validation')\n",
        "plt.xlabel('Epochs')\n",
        "plt.ylabel('Loss')\n",
        "plt.legend()\n",
        "plt.grid()\n",
        "plt.show()"
      ],
      "execution_count": 0,
      "outputs": [
        {
          "output_type": "display_data",
          "data": {
            "image/png": "[encoded data removed]",
            "text/plain": [
              "<Figure size 432x288 with 1 Axes>"
            ]
          },
          "metadata": {
            "tags": []
          }
        }
      ]
    },
    {
      "cell_type": "code",
      "metadata": {
        "id": "6Ti28Pvfun8L",
        "colab_type": "code",
        "colab": {}
      },
      "source": [
        "model.save_weights('/content/drive/My Drive/EECE 693 Programming Midterm/model_weights.h5', save_format='h5')"
      ],
      "execution_count": 0,
      "outputs": []
    },
    {
      "cell_type": "markdown",
      "metadata": {
        "id": "3IH146NC6_xk",
        "colab_type": "text"
      },
      "source": [
        "---\n",
        "\n",
        "# Model Evaluation"
      ]
    },
    {
      "cell_type": "code",
      "metadata": {
        "id": "-1wR35IyxP5d",
        "colab_type": "code",
        "colab": {}
      },
      "source": [
        "model = load_model('/content/drive/My Drive/EECE 693 Programming Midterm/final_model.hdf5')"
      ],
      "execution_count": 0,
      "outputs": []
    },
    {
      "cell_type": "markdown",
      "metadata": {
        "id": "m3-69BGYnM7z",
        "colab_type": "text"
      },
      "source": [
        "**On Training Data**"
      ]
    },
    {
      "cell_type": "code",
      "metadata": {
        "id": "0rk6VcxPooEC",
        "colab_type": "code",
        "colab": {}
      },
      "source": [
        "column_names = y_train.columns\n",
        "X_train = np.vstack((X_train, X_val))\n",
        "y_train = np.vstack((y_train, y_val))"
      ],
      "execution_count": 0,
      "outputs": []
    },
    {
      "cell_type": "code",
      "metadata": {
        "colab_type": "code",
        "outputId": "c1b1437f-63ff-4931-8da4-22297518d8e8",
        "id": "zNHXozE2nP76",
        "colab": {
          "base_uri": "https://localhost:8080/",
          "height": 51
        }
      },
      "source": [
        "model.evaluate(X_train, y_train, batch_size=1)"
      ],
      "execution_count": 6,
      "outputs": [
        {
          "output_type": "stream",
          "text": [
            "110/110 [==============================] - 7s 65ms/step - loss: 0.8040 - accuracy: 0.8364\n"
          ],
          "name": "stdout"
        },
        {
          "output_type": "execute_result",
          "data": {
            "text/plain": [
              "[0.8040437698364258, 0.8363636136054993]"
            ]
          },
          "metadata": {
            "tags": []
          },
          "execution_count": 6
        }
      ]
    },
    {
      "cell_type": "code",
      "metadata": {
        "colab_type": "code",
        "id": "DOJNZ2dznP8G",
        "colab": {}
      },
      "source": [
        "y_pred = model.predict(X_train, batch_size=1)\n",
        "y_pred = list(np.argmax(y_pred, axis=1))\n",
        "y_true = list(np.argmax(y_train, axis=1))\n",
        "\n",
        "for i in range(len(y_pred)):\n",
        "    y_pred[i] = column_names[y_pred[i]]\n",
        "    y_true[i] = column_names[y_true[i]]"
      ],
      "execution_count": 0,
      "outputs": []
    },
    {
      "cell_type": "code",
      "metadata": {
        "colab_type": "code",
        "outputId": "7f9314c4-39af-4a48-8695-1fba977e9dcb",
        "id": "52uatTbznP8V",
        "colab": {
          "base_uri": "https://localhost:8080/",
          "height": 255
        }
      },
      "source": [
        "print(pd.DataFrame({'True Class': y_true, 'Predicted Class': y_pred}))"
      ],
      "execution_count": 8,
      "outputs": [
        {
          "output_type": "stream",
          "text": [
            "            True Class    Predicted Class\n",
            "0           Bill Gates         Bill Gates\n",
            "1         Donald Trump       Donald Trump\n",
            "2        Marcel Ghanem      Marcel Ghanem\n",
            "3    Samuel L. Jackson  Samuel L. Jackson\n",
            "4       Cate Blanchett     Cate Blanchett\n",
            "..                 ...                ...\n",
            "105        Fadlo Khuri        Fadlo Khuri\n",
            "106         Bill Gates        Fadlo Khuri\n",
            "107       Keanu Reeves       Keanu Reeves\n",
            "108      Anthony Fauci      Anthony Fauci\n",
            "109     Tedros Adhanom     Tedros Adhanom\n",
            "\n",
            "[110 rows x 2 columns]\n"
          ],
          "name": "stdout"
        }
      ]
    },
    {
      "cell_type": "code",
      "metadata": {
        "colab_type": "code",
        "outputId": "c962677a-fc90-4dfa-a4d5-9901af8600c4",
        "id": "iuVh18TynP8a",
        "colab": {
          "base_uri": "https://localhost:8080/",
          "height": 539
        }
      },
      "source": [
        "df_cm = pd.DataFrame(confusion_matrix(y_true, y_pred, labels=column_names), column_names, column_names)\n",
        "plt.figure(figsize=(7,7))\n",
        "sn.heatmap(df_cm, annot=True, cmap='PuBu', cbar=False, square=True)\n",
        "plt.title('Train Confusion Matrix')\n",
        "plt.xlabel('Predicted Class')\n",
        "plt.ylabel('True Class')\n",
        "plt.show()"
      ],
      "execution_count": 9,
      "outputs": [
        {
          "output_type": "display_data",
          "data": {
            "image/png": "[encoded data removed]",
            "text/plain": [
              "<Figure size 504x504 with 1 Axes>"
            ]
          },
          "metadata": {
            "tags": []
          }
        }
      ]
    },
    {
      "cell_type": "markdown",
      "metadata": {
        "id": "MyGLAMgdlK8-",
        "colab_type": "text"
      },
      "source": [
        "**On Test Data**"
      ]
    },
    {
      "cell_type": "code",
      "metadata": {
        "id": "JpnAvdAWEmjP",
        "colab_type": "code",
        "outputId": "657c1bc5-4ec4-4f24-fa76-9e6813cc0136",
        "colab": {
          "base_uri": "https://localhost:8080/",
          "height": 51
        }
      },
      "source": [
        "model.evaluate(X_test, y_test, batch_size=1)"
      ],
      "execution_count": 10,
      "outputs": [
        {
          "output_type": "stream",
          "text": [
            "22/22 [==============================] - 1s 64ms/step - loss: 0.7912 - accuracy: 0.7727\n"
          ],
          "name": "stdout"
        },
        {
          "output_type": "execute_result",
          "data": {
            "text/plain": [
              "[0.791175127029419, 0.7727272510528564]"
            ]
          },
          "metadata": {
            "tags": []
          },
          "execution_count": 10
        }
      ]
    },
    {
      "cell_type": "code",
      "metadata": {
        "id": "g45NUJ-lDElV",
        "colab_type": "code",
        "colab": {}
      },
      "source": [
        "y_pred = model.predict(X_test, batch_size=1)\n",
        "y_pred = list(np.argmax(y_pred, axis=1))\n",
        "y_true = list(np.argmax(y_test.values, axis=1))"
      ],
      "execution_count": 0,
      "outputs": []
    },
    {
      "cell_type": "code",
      "metadata": {
        "id": "zXoY5-F_dObh",
        "colab_type": "code",
        "colab": {}
      },
      "source": [
        "for i in range(len(y_pred)):\n",
        "    y_pred[i] = column_names[y_pred[i]]\n",
        "    y_true[i] = column_names[y_true[i]]"
      ],
      "execution_count": 0,
      "outputs": []
    },
    {
      "cell_type": "code",
      "metadata": {
        "id": "sOZDmUA2DZT9",
        "colab_type": "code",
        "outputId": "bbc6c7db-d702-4941-b091-84166d5e2afe",
        "colab": {
          "base_uri": "https://localhost:8080/",
          "height": 408
        }
      },
      "source": [
        "print(pd.DataFrame({'True Class': y_true, 'Predicted Class': y_pred}))"
      ],
      "execution_count": 13,
      "outputs": [
        {
          "output_type": "stream",
          "text": [
            "           True Class    Predicted Class\n",
            "0      Tedros Adhanom     Tedros Adhanom\n",
            "1      Tedros Adhanom     Tedros Adhanom\n",
            "2         Fadlo Khuri       Hamad Hassan\n",
            "3         Fadlo Khuri      Marcel Ghanem\n",
            "4        Hamad Hassan       Hamad Hassan\n",
            "5        Hamad Hassan       Hamad Hassan\n",
            "6       Anthony Fauci      Anthony Fauci\n",
            "7       Anthony Fauci      Anthony Fauci\n",
            "8       Marcel Ghanem      Marcel Ghanem\n",
            "9       Marcel Ghanem      Marcel Ghanem\n",
            "10         Bill Gates         Bill Gates\n",
            "11         Bill Gates         Bill Gates\n",
            "12     Cate Blanchett     Cate Blanchett\n",
            "13     Cate Blanchett     Cate Blanchett\n",
            "14       Donald Trump       Donald Trump\n",
            "15       Donald Trump       Donald Trump\n",
            "16  Samuel L. Jackson  Samuel L. Jackson\n",
            "17  Samuel L. Jackson  Samuel L. Jackson\n",
            "18       Keanu Reeves        Fadlo Khuri\n",
            "19       Keanu Reeves       Keanu Reeves\n",
            "20    Andrew M. Cuomo        Fadlo Khuri\n",
            "21    Andrew M. Cuomo        Fadlo Khuri\n"
          ],
          "name": "stdout"
        }
      ]
    },
    {
      "cell_type": "code",
      "metadata": {
        "id": "f4IY9zJcbBwJ",
        "colab_type": "code",
        "colab": {
          "base_uri": "https://localhost:8080/",
          "height": 539
        },
        "outputId": "f0761366-2e48-4777-d478-fa36abd7f44b"
      },
      "source": [
        "df_cm = pd.DataFrame(confusion_matrix(y_true, y_pred, labels=column_names), column_names, column_names)\n",
        "plt.figure(figsize=(7,7))\n",
        "sn.heatmap(df_cm, annot=True, cmap='PuBu', cbar=False, square=True)\n",
        "plt.title('Test Confusion Matrix')\n",
        "plt.xlabel('Predicted Class')\n",
        "plt.ylabel('True Class')\n",
        "plt.show()"
      ],
      "execution_count": 14,
      "outputs": [
        {
          "output_type": "display_data",
          "data": {
            "image/png": "[encoded data removed]",
            "text/plain": [
              "<Figure size 504x504 with 1 Axes>"
            ]
          },
          "metadata": {
            "tags": []
          }
        }
      ]
    }
  ]
}